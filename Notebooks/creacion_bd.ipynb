{
 "cells": [
  {
   "cell_type": "markdown",
   "metadata": {},
   "source": [
    "# Creación de Base de Datos"
   ]
  },
  {
   "cell_type": "markdown",
   "metadata": {},
   "source": [
    "La base de datos será utilizada para obtener los datos en Power BI"
   ]
  },
  {
   "cell_type": "code",
   "execution_count": 1,
   "metadata": {},
   "outputs": [],
   "source": [
    "''' Importamos los módulos necesarios'''\n",
    "\n",
    "import pandas as pd\n",
    "import pymysql"
   ]
  },
  {
   "cell_type": "code",
   "execution_count": 3,
   "metadata": {},
   "outputs": [],
   "source": [
    "''' Importamos los csv'''\n",
    "\n",
    "df_tecnologia = pd.read_csv('C:/Users/Luis/Documents/Universidad-Trabajo/SoyHenry/LABS/Proyecto_2/Datasets_PBI/Acceso_teconlogia.csv')\n",
    "df_acceso_velocidad_rangos_bajada_provincia = pd.read_csv('C:/Users/Luis/Documents/Universidad-Trabajo/SoyHenry/LABS/Proyecto_2/Datasets_PBI/Acceso_rangos_velocidad_provincia.csv')\n",
    "df_totales_acceso_fijo_bandas = pd.read_csv('C:/Users/Luis/Documents/Universidad-Trabajo/SoyHenry/LABS/Proyecto_2/Datasets_PBI/Acceso_banda_nacional.csv')\n",
    "df_100 = pd.read_csv('C:/Users/Luis/Documents/Universidad-Trabajo/SoyHenry/LABS/Proyecto_2/Datasets_PBI/Acceso_100_hogares.csv')\n",
    "df_acceso_provincia_bandas = pd.read_csv('C:/Users/Luis/Documents/Universidad-Trabajo/SoyHenry/LABS/Proyecto_2/Datasets_PBI/Acceso_provinca_banda.csv')\n",
    "df_tele_nacional = pd.read_csv('C:/Users/Luis/Documents/Universidad-Trabajo/SoyHenry/LABS/Proyecto_2/Datasets_PBI/Acceso_tv_nacional.csv')\n",
    "df_fija = pd.read_csv('C:/Users/Luis/Documents/Universidad-Trabajo/SoyHenry/LABS/Proyecto_2/Datasets_PBI/telefonia_fija.csv')\n",
    "df_movil = pd.read_csv('C:/Users/Luis/Documents/Universidad-Trabajo/SoyHenry/LABS/Proyecto_2/Datasets_PBI/telefonia_movil.csv')\n",
    "df_provincia = pd.read_csv('C:/Users/Luis/Documents/Universidad-Trabajo/SoyHenry/LABS/Proyecto_2/Datasets_PBI/Provincias.csv')\n",
    "df_calendario = pd.read_csv('C:/Users/Luis/Documents/Universidad-Trabajo/SoyHenry/LABS/Proyecto_2/Datasets_PBI/Calendario.csv')\n"
   ]
  },
  {
   "cell_type": "code",
   "execution_count": 4,
   "metadata": {},
   "outputs": [],
   "source": [
    "''' Establecemos la conexión con MySQL'''\n",
    "\n",
    "clave_file = open('C:/Users/Luis/Documents/Universidad-Trabajo/SoyHenry/LABS/Proyecto_2/Contraseña.txt')\n",
    "clave = clave_file.read()\n",
    "\n",
    "connection = pymysql.connect(host = 'localhost', user = 'root', password = clave)\n",
    "cursor = connection.cursor()"
   ]
  },
  {
   "cell_type": "code",
   "execution_count": null,
   "metadata": {},
   "outputs": [
    {
     "data": {
      "text/plain": [
       "1"
      ]
     },
     "metadata": {},
     "output_type": "display_data"
    }
   ],
   "source": [
    "''' Creamos la base de datos'''\n",
    "\n",
    "db = \"\"\"create database if not exists Internet\"\"\"\n",
    "cursor.execute(db)"
   ]
  },
  {
   "cell_type": "code",
   "execution_count": null,
   "metadata": {},
   "outputs": [
    {
     "data": {
      "text/plain": [
       "0"
      ]
     },
     "metadata": {},
     "output_type": "display_data"
    }
   ],
   "source": [
    "''' Elegimos la base de datos que usaremos'''\n",
    "\n",
    "cursor.execute('use Internet;')"
   ]
  },
  {
   "cell_type": "markdown",
   "metadata": {},
   "source": [
    "A continuación se crearan todas las tablas en la base de datos"
   ]
  },
  {
   "cell_type": "code",
   "execution_count": null,
   "metadata": {},
   "outputs": [
    {
     "data": {
      "text/plain": [
       "0"
      ]
     },
     "metadata": {},
     "output_type": "display_data"
    }
   ],
   "source": [
    "provincia = \"\"\"\n",
    "create table if not exists\n",
    "provincia(\n",
    "Provincia VARCHAR(30),\n",
    "id_provincia INT NOT NULL,\n",
    "PRIMARY KEY (id_provincia)\n",
    ");\"\"\"\n",
    "cursor.execute(provincia)"
   ]
  },
  {
   "cell_type": "code",
   "execution_count": null,
   "metadata": {},
   "outputs": [
    {
     "data": {
      "text/plain": [
       "0"
      ]
     },
     "metadata": {},
     "output_type": "display_data"
    }
   ],
   "source": [
    "calendario = \"\"\"\n",
    "create table if not exists\n",
    "calendario(\n",
    "Año INT NOT NULL,\n",
    "Trimestre INT NOT NULL,\n",
    "id_calendario INT NOT NULL,\n",
    "PRIMARY KEY (id_calendario)\n",
    ");\"\"\"\n",
    "cursor.execute(calendario)"
   ]
  },
  {
   "cell_type": "code",
   "execution_count": null,
   "metadata": {},
   "outputs": [
    {
     "data": {
      "text/plain": [
       "0"
      ]
     },
     "metadata": {},
     "output_type": "display_data"
    }
   ],
   "source": [
    "tecnologia = \"\"\"\n",
    "create table if not exists \n",
    "tecnologia(\n",
    "ADSL INT,\n",
    "Cablemodem INT,\n",
    "Fibra_optica INT,\n",
    "Wireless INT,\n",
    "Otros INT,\n",
    "id_calendario INT NOT NULL,\n",
    "id_provincia INT NOT NULL,\n",
    "FOREIGN KEY(id_calendario) REFERENCES calendario(id_calendario),\n",
    "FOREIGN KEY(id_provincia) REFERENCES provincia(id_provincia)\n",
    ");\"\"\"\n",
    "cursor.execute(tecnologia)"
   ]
  },
  {
   "cell_type": "code",
   "execution_count": null,
   "metadata": {},
   "outputs": [
    {
     "data": {
      "text/plain": [
       "0"
      ]
     },
     "metadata": {},
     "output_type": "display_data"
    }
   ],
   "source": [
    "velocidad = \"\"\"\n",
    "create table if not exists \n",
    "rangos_velocidad(\n",
    "Hasta_512_Kbps INT,\n",
    "512_Kbps_a_1_Mbps INT,\n",
    "1_Mbps_a_6_Mbps INT,\n",
    "6_Mbps_a_10_Mbps INT,\n",
    "10_Mbps_a_20_Mbps INT,\n",
    "20_Mbps_a_30_Mbps INT,\n",
    "Mas_de_30_Mbps INT,\n",
    "Otros DECIMAL(8, 2),\n",
    "id_calendario INT NOT NULL,\n",
    "id_provincia INT NOT NULL,\n",
    "FOREIGN KEY(id_calendario) REFERENCES calendario(id_calendario),\n",
    "FOREIGN KEY(id_provincia) REFERENCES provincia(id_provincia)\n",
    ");\"\"\"\n",
    "cursor.execute(velocidad)"
   ]
  },
  {
   "cell_type": "code",
   "execution_count": null,
   "metadata": {},
   "outputs": [
    {
     "data": {
      "text/plain": [
       "0"
      ]
     },
     "metadata": {},
     "output_type": "display_data"
    }
   ],
   "source": [
    "banda_nacional = \"\"\"\n",
    "create table if not exists\n",
    "bandas_nacional(\n",
    "banda_ancha INT,\n",
    "dial_up INT,\n",
    "Total INT,\n",
    "id_calendario INT NOT NULL,\n",
    "FOREIGN KEY(id_calendario) REFERENCES calendario(id_calendario)\n",
    ");\"\"\"\n",
    "cursor.execute(banda_nacional)"
   ]
  },
  {
   "cell_type": "code",
   "execution_count": null,
   "metadata": {},
   "outputs": [
    {
     "data": {
      "text/plain": [
       "0"
      ]
     },
     "metadata": {},
     "output_type": "display_data"
    }
   ],
   "source": [
    "Hogares = \"\"\"\n",
    "create table if not exists\n",
    "100_hogares(\n",
    "Accesos DECIMAL(5, 2),\n",
    "id_calendario INT NOT NULL,\n",
    "id_provincia INT NOT NULL,\n",
    "FOREIGN KEY(id_calendario) REFERENCES calendario(id_calendario),\n",
    "FOREIGN KEY(id_provincia) REFERENCES provincia(id_provincia)\n",
    ");\"\"\"\n",
    "cursor.execute(Hogares)"
   ]
  },
  {
   "cell_type": "code",
   "execution_count": null,
   "metadata": {},
   "outputs": [
    {
     "data": {
      "text/plain": [
       "0"
      ]
     },
     "metadata": {},
     "output_type": "display_data"
    }
   ],
   "source": [
    "banda_provincia = \"\"\"\n",
    "create table if not exists\n",
    "banda_provincia(\n",
    "banda_ancha INT,\n",
    "dial_up INT,\n",
    "total INT,\n",
    "id_calendario INT NOT NULL,\n",
    "id_provincia INT NOT NULL,\n",
    "FOREIGN KEY(id_calendario) REFERENCES calendario(id_calendario),\n",
    "FOREIGN KEY(id_provincia) REFERENCES provincia(id_provincia)\n",
    ");\"\"\"\n",
    "cursor.execute(banda_provincia)"
   ]
  },
  {
   "cell_type": "code",
   "execution_count": null,
   "metadata": {},
   "outputs": [
    {
     "data": {
      "text/plain": [
       "0"
      ]
     },
     "metadata": {},
     "output_type": "display_data"
    }
   ],
   "source": [
    "television = \"\"\"\n",
    "create table if not exists\n",
    "television(\n",
    "suscripcion INT,\n",
    "satelital INT,\n",
    "id_calendario INT NOT NULL,\n",
    "FOREIGN KEY(id_calendario) REFERENCES calendario(id_calendario)\n",
    ");\"\"\"\n",
    "cursor.execute(television)"
   ]
  },
  {
   "cell_type": "code",
   "execution_count": null,
   "metadata": {},
   "outputs": [
    {
     "data": {
      "text/plain": [
       "0"
      ]
     },
     "metadata": {},
     "output_type": "display_data"
    }
   ],
   "source": [
    "fija = \"\"\"\n",
    "create table if not exists\n",
    "telefonia_fija(\n",
    "total INT,\n",
    "hogares INT,\n",
    "comercial INT,\n",
    "gobierno INT,\n",
    "otros INT,\n",
    "id_calendario INT NOT NULL,\n",
    "id_provincia INT NOT NULL,\n",
    "FOREIGN KEY(id_calendario) REFERENCES calendario(id_calendario),\n",
    "FOREIGN KEY(id_provincia) REFERENCES provincia(id_provincia)\n",
    ");\"\"\"\n",
    "cursor.execute(fija)"
   ]
  },
  {
   "cell_type": "code",
   "execution_count": null,
   "metadata": {},
   "outputs": [
    {
     "data": {
      "text/plain": [
       "0"
      ]
     },
     "metadata": {},
     "output_type": "display_data"
    }
   ],
   "source": [
    "movil = \"\"\"\n",
    "create table if not exists\n",
    "telefonia_movil(\n",
    "postpago INT,\n",
    "prepago INT,\n",
    "total INT,\n",
    "id_calendario INT NOT NULL,\n",
    "FOREIGN KEY(id_calendario) REFERENCES calendario(id_calendario)\n",
    ");\"\"\"\n",
    "cursor.execute(movil)"
   ]
  },
  {
   "cell_type": "markdown",
   "metadata": {},
   "source": [
    "Poblamos las tablas con la información de los dataframe"
   ]
  },
  {
   "cell_type": "code",
   "execution_count": null,
   "metadata": {},
   "outputs": [
    {
     "data": {
      "text/plain": [
       "24"
      ]
     },
     "metadata": {},
     "output_type": "display_data"
    }
   ],
   "source": [
    "filas_provincia = [tuple(df_provincia.iloc[i].values) for i in range(df_provincia.shape[0])]\n",
    "\n",
    "insertar_provincia = \"\"\"\n",
    "INSERT INTO provincia(Provincia, id_provincia)\n",
    "VALUES (%s, %s);\"\"\"\n",
    "\n",
    "cursor.executemany(insertar_provincia, filas_provincia)"
   ]
  },
  {
   "cell_type": "code",
   "execution_count": null,
   "metadata": {},
   "outputs": [
    {
     "data": {
      "text/plain": [
       "36"
      ]
     },
     "metadata": {},
     "output_type": "display_data"
    }
   ],
   "source": [
    "filas_calendario = [tuple(df_calendario.iloc[i].values) for i in range(df_calendario.shape[0])]\n",
    "\n",
    "insertar_calendario = \"\"\"\n",
    "INSERT INTO calendario(Año, Trimestre, id_calendario)\n",
    "VALUES (%s, %s, %s);\"\"\"\n",
    "\n",
    "cursor.executemany(insertar_calendario, filas_calendario)"
   ]
  },
  {
   "cell_type": "code",
   "execution_count": null,
   "metadata": {},
   "outputs": [
    {
     "data": {
      "text/plain": [
       "840"
      ]
     },
     "metadata": {},
     "output_type": "display_data"
    }
   ],
   "source": [
    "filas_tecnologia = [tuple(df_tecnologia.iloc[i].values) for i in range(df_tecnologia.shape[0])]\n",
    "\n",
    "insertar_tecnologia = \"\"\"\n",
    "INSERT INTO tecnologia(ADSL, Cablemodem, Fibra_optica, Wireless, Otros, id_calendario, id_provincia)\n",
    "VALUES (%s, %s, %s, %s, %s, %s, %s);\"\"\"\n",
    "\n",
    "cursor.executemany(insertar_tecnologia, filas_tecnologia)"
   ]
  },
  {
   "cell_type": "code",
   "execution_count": null,
   "metadata": {},
   "outputs": [
    {
     "data": {
      "text/plain": [
       "840"
      ]
     },
     "metadata": {},
     "output_type": "display_data"
    }
   ],
   "source": [
    "filas_velocidad = [tuple(df_acceso_velocidad_rangos_bajada_provincia.iloc[i].values) for i in range(df_acceso_velocidad_rangos_bajada_provincia.shape[0])]\n",
    "\n",
    "insertar_velocidad = \"\"\"\n",
    "INSERT INTO rangos_velocidad(HASTA_512_Kbps, 512_Kbps_a_1_Mbps, 1_Mbps_a_6_Mbps, 6_Mbps_a_10_Mbps, 10_Mbps_a_20_Mbps, 20_Mbps_a_30_Mbps, Mas_de_30_Mbps, Otros, id_calendario, id_provincia)\n",
    "VALUES (%s, %s, %s, %s, %s, %s, %s, %s, %s, %s);\"\"\"\n",
    "\n",
    "cursor.executemany(insertar_velocidad, filas_velocidad)"
   ]
  },
  {
   "cell_type": "code",
   "execution_count": null,
   "metadata": {},
   "outputs": [
    {
     "data": {
      "text/plain": [
       "35"
      ]
     },
     "metadata": {},
     "output_type": "display_data"
    }
   ],
   "source": [
    "filas_banda_nacional = [tuple(df_totales_acceso_fijo_bandas.iloc[i].values) for i in range(df_totales_acceso_fijo_bandas.shape[0])]\n",
    "\n",
    "insertar_bandas_nacional = \"\"\"\n",
    "INSERT INTO bandas_nacional(banda_ancha, dial_up, Total, id_calendario)\n",
    "VALUES (%s, %s, %s, %s);\"\"\"\n",
    "\n",
    "cursor.executemany(insertar_bandas_nacional, filas_banda_nacional)"
   ]
  },
  {
   "cell_type": "code",
   "execution_count": null,
   "metadata": {},
   "outputs": [
    {
     "data": {
      "text/plain": [
       "840"
      ]
     },
     "metadata": {},
     "output_type": "display_data"
    }
   ],
   "source": [
    "filas_100 = [tuple(df_100.iloc[i].values) for i in range(df_100.shape[0])]\n",
    "\n",
    "insertar_100 = \"\"\"\n",
    "INSERT INTO 100_hogares(Accesos, id_calendario, id_provincia)\n",
    "VALUES (%s, %s, %s);\"\"\"\n",
    "\n",
    "cursor.executemany(insertar_100, filas_100)"
   ]
  },
  {
   "cell_type": "code",
   "execution_count": null,
   "metadata": {},
   "outputs": [
    {
     "data": {
      "text/plain": [
       "840"
      ]
     },
     "metadata": {},
     "output_type": "display_data"
    }
   ],
   "source": [
    "filas_banda_provincia = [tuple(df_acceso_provincia_bandas.iloc[i].values) for i in range(df_acceso_provincia_bandas.shape[0])]\n",
    "\n",
    "insertar_banda_provincia = \"\"\"\n",
    "INSERT INTO banda_provincia(banda_ancha, dial_up, total, id_calendario, id_provincia)\n",
    "VALUES (%s, %s, %s, %s, %s);\"\"\"\n",
    "\n",
    "cursor.executemany(insertar_banda_provincia, filas_banda_provincia)"
   ]
  },
  {
   "cell_type": "code",
   "execution_count": null,
   "metadata": {},
   "outputs": [
    {
     "data": {
      "text/plain": [
       "34"
      ]
     },
     "metadata": {},
     "output_type": "display_data"
    }
   ],
   "source": [
    "filas_tele = [tuple(df_tele_nacional.iloc[i].values) for i in range(df_tele_nacional.shape[0])]\n",
    "\n",
    "insertar_tele = \"\"\"\n",
    "INSERT INTO television(suscripcion, satelital, id_calendario)\n",
    "VALUES (%s, %s, %s);\"\"\"\n",
    "\n",
    "cursor.executemany(insertar_tele, filas_tele)"
   ]
  },
  {
   "cell_type": "code",
   "execution_count": null,
   "metadata": {},
   "outputs": [
    {
     "data": {
      "text/plain": [
       "840"
      ]
     },
     "metadata": {},
     "output_type": "display_data"
    }
   ],
   "source": [
    "filas_fija = [tuple(df_fija.iloc[i].values) for i in range(df_fija.shape[0])]\n",
    "\n",
    "insertar_fija = \"\"\"\n",
    "INSERT INTO telefonia_fija(total, hogares, comercial, gobierno, otros, id_calendario, id_provincia)\n",
    "VALUES (%s, %s, %s, %s, %s, %s, %s);\"\"\"\n",
    "\n",
    "cursor.executemany(insertar_fija, filas_fija)"
   ]
  },
  {
   "cell_type": "code",
   "execution_count": null,
   "metadata": {},
   "outputs": [
    {
     "data": {
      "text/plain": [
       "35"
      ]
     },
     "metadata": {},
     "output_type": "display_data"
    }
   ],
   "source": [
    "filas_movil = [tuple(df_movil.iloc[i].values) for i in range(df_movil.shape[0])]\n",
    "\n",
    "insertar_movil = \"\"\"\n",
    "INSERT INTO telefonia_movil(postpago, prepago, total, id_calendario)\n",
    "VALUES (%s, %s, %s, %s);\"\"\"\n",
    "\n",
    "cursor.executemany(insertar_movil, filas_movil)"
   ]
  },
  {
   "cell_type": "code",
   "execution_count": null,
   "metadata": {},
   "outputs": [],
   "source": [
    "''' Hacemos commit y cerramos la conexión con la base de datos'''\n",
    "\n",
    "connection.commit()\n",
    "connection.close()"
   ]
  }
 ],
 "metadata": {
  "kernelspec": {
   "display_name": "env_PI_2",
   "language": "python",
   "name": "python3"
  },
  "language_info": {
   "codemirror_mode": {
    "name": "ipython",
    "version": 3
   },
   "file_extension": ".py",
   "mimetype": "text/x-python",
   "name": "python",
   "nbconvert_exporter": "python",
   "pygments_lexer": "ipython3",
   "version": "3.11.3"
  },
  "orig_nbformat": 4
 },
 "nbformat": 4,
 "nbformat_minor": 2
}
